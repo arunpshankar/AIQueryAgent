{
 "cells": [
  {
   "cell_type": "code",
   "execution_count": 1,
   "metadata": {},
   "outputs": [],
   "source": [
    "import requests \n",
    "import logging\n",
    "import json\n",
    "import yaml\n",
    "import os"
   ]
  },
  {
   "cell_type": "code",
   "execution_count": 2,
   "metadata": {},
   "outputs": [],
   "source": [
    "logger = logging.getLogger(__name__)\n",
    "logger.setLevel(logging.INFO)\n",
    "logger.addHandler(logging.StreamHandler())"
   ]
  },
  {
   "cell_type": "code",
   "execution_count": 3,
   "metadata": {},
   "outputs": [],
   "source": [
    "PROJECT_ID = 'arun-genai-bb'\n",
    "REGION = 'us-central1'"
   ]
  },
  {
   "cell_type": "code",
   "execution_count": 4,
   "metadata": {},
   "outputs": [
    {
     "name": "stdout",
     "output_type": "stream",
     "text": [
      "In a future Cloud SDK release, new functions will be deployed as 2nd gen  functions by default. This is equivalent to currently deploying new  with the --gen2 flag. Existing 1st gen functions will not be impacted and will continue to deploy as 1st gen functions.\n",
      "You can preview this behavior in beta. Alternatively, you can disable this behavior by explicitly specifying the --no-gen2 flag or by setting the functions/gen2 config property to 'off'.\n",
      "To learn more about the differences between 1st gen and 2nd gen functions, visit:\n",
      "https://cloud.google.com/functions/docs/concepts/version-comparison\n",
      "Deploying function (may take a while - up to 2 minutes)...⠛                    \n",
      "For Cloud Build Logs, visit: https://console.cloud.google.com/cloud-build/builds;region=us-central1/c7255226-8438-4c57-89fd-2172a1e5d712?project=390991481152\n",
      "Deploying function (may take a while - up to 2 minutes)...done.                \n",
      "automaticUpdatePolicy: {}\n",
      "availableMemoryMb: 256\n",
      "buildId: c7255226-8438-4c57-89fd-2172a1e5d712\n",
      "buildName: projects/390991481152/locations/us-central1/builds/c7255226-8438-4c57-89fd-2172a1e5d712\n",
      "dockerRegistry: ARTIFACT_REGISTRY\n",
      "entryPoint: sales_mock_002\n",
      "httpsTrigger:\n",
      "  securityLevel: SECURE_OPTIONAL\n",
      "  url: https://us-central1-arun-genai-bb.cloudfunctions.net/sales_mock_002\n",
      "ingressSettings: ALLOW_ALL\n",
      "labels:\n",
      "  deployment-tool: cli-gcloud\n",
      "name: projects/arun-genai-bb/locations/us-central1/functions/sales_mock_002\n",
      "runtime: python310\n",
      "serviceAccountEmail: arun-genai-bb@appspot.gserviceaccount.com\n",
      "sourceUploadUrl: https://storage.googleapis.com/uploads-647994221706.us-central1.cloudfunctions.appspot.com/3b42c748-8d5b-4370-9928-86479468408d.zip\n",
      "status: ACTIVE\n",
      "timeout: 60s\n",
      "updateTime: '2024-06-26T21:34:59.121Z'\n",
      "versionId: '2'\n"
     ]
    }
   ],
   "source": [
    "!gcloud functions deploy sales_mock_002 --runtime python310 --trigger-http --allow-unauthenticated --source ./src/ "
   ]
  },
  {
   "cell_type": "code",
   "execution_count": null,
   "metadata": {},
   "outputs": [],
   "source": []
  }
 ],
 "metadata": {
  "kernelspec": {
   "display_name": ".ai-query-agent",
   "language": "python",
   "name": "python3"
  },
  "language_info": {
   "codemirror_mode": {
    "name": "ipython",
    "version": 3
   },
   "file_extension": ".py",
   "mimetype": "text/x-python",
   "name": "python",
   "nbconvert_exporter": "python",
   "pygments_lexer": "ipython3",
   "version": "3.11.6"
  }
 },
 "nbformat": 4,
 "nbformat_minor": 2
}
