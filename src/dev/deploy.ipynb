{
 "cells": [
  {
   "cell_type": "markdown",
   "metadata": {},
   "source": [
    "# Deploy Flask Server to Cloud Functions"
   ]
  },
  {
   "cell_type": "markdown",
   "metadata": {},
   "source": [
    "#### Use `gcloud CLI` to deploy Flask app server to Cloud Functions "
   ]
  },
  {
   "cell_type": "code",
   "execution_count": 2,
   "metadata": {},
   "outputs": [
    {
     "name": "stdout",
     "output_type": "stream",
     "text": [
      "In a future Cloud SDK release, new functions will be deployed as 2nd gen  functions by default. This is equivalent to currently deploying new  with the --gen2 flag. Existing 1st gen functions will not be impacted and will continue to deploy as 1st gen functions.\n",
      "You can preview this behavior in beta. Alternatively, you can disable this behavior by explicitly specifying the --no-gen2 flag or by setting the functions/gen2 config property to 'off'.\n",
      "To learn more about the differences between 1st gen and 2nd gen functions, visit:\n",
      "https://cloud.google.com/functions/docs/concepts/version-comparison\n",
      "\u001b[1;31mERROR:\u001b[0m (gcloud.functions.deploy) Invalid value for [--source]: Provided directory does not exist\n"
     ]
    }
   ],
   "source": [
    "!gcloud functions deploy sales --runtime python310 --trigger-http --allow-unauthenticated --source ./../../src/app/ "
   ]
  },
  {
   "cell_type": "markdown",
   "metadata": {},
   "source": [
    "#### Test deployed API methods"
   ]
  },
  {
   "cell_type": "code",
   "execution_count": null,
   "metadata": {},
   "outputs": [],
   "source": [
    "!curl -m 70 -X GET https://us-central1-arun-genai-bb.cloudfunctions.net/sales/ -H \"Authorization: bearer $(gcloud auth print-identity-token)\" -H \"Content-Type: application/json\" "
   ]
  },
  {
   "cell_type": "code",
   "execution_count": null,
   "metadata": {},
   "outputs": [],
   "source": [
    "!curl -X GET https://us-central1-arun-genai-bb.cloudfunctions.net/sales/api/accounts/T7F103 -H \"Authorization: bearer $(gcloud auth print-identity-token)\" -H \"Content-Type: application/json\""
   ]
  }
 ],
 "metadata": {
  "kernelspec": {
   "display_name": ".ai-query-agent",
   "language": "python",
   "name": "python3"
  },
  "language_info": {
   "codemirror_mode": {
    "name": "ipython",
    "version": 3
   },
   "file_extension": ".py",
   "mimetype": "text/x-python",
   "name": "python",
   "nbconvert_exporter": "python",
   "pygments_lexer": "ipython3",
   "version": "3.11.6"
  }
 },
 "nbformat": 4,
 "nbformat_minor": 2
}
