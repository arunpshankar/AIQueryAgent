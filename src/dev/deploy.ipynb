{
 "cells": [
  {
   "cell_type": "markdown",
   "metadata": {},
   "source": [
    "# Deploy Flask Server to Cloud Functions"
   ]
  },
  {
   "cell_type": "markdown",
   "metadata": {},
   "source": [
    "#### Use `gcloud CLI` to deploy Flask app server to Cloud Functions "
   ]
  },
  {
   "cell_type": "code",
   "execution_count": null,
   "metadata": {},
   "outputs": [],
   "source": [
    "!gcloud functions deploy sales --runtime python310 --trigger-http --allow-unauthenticated --source ./../../src/app/ "
   ]
  },
  {
   "cell_type": "markdown",
   "metadata": {},
   "source": [
    "#### Test API Interaction"
   ]
  },
  {
   "cell_type": "markdown",
   "metadata": {},
   "source": [
    "Retrieving Sales Data from the Root Endpoint"
   ]
  },
  {
   "cell_type": "code",
   "execution_count": null,
   "metadata": {},
   "outputs": [],
   "source": [
    "!curl -m 70 -X GET https://us-central1-arun-genai-bb.cloudfunctions.net/sales/ -H \"Authorization: bearer $(gcloud auth print-identity-token)\" -H \"Content-Type: application/json\" "
   ]
  },
  {
   "cell_type": "markdown",
   "metadata": {},
   "source": [
    "Fetching Account Information by Account ID"
   ]
  },
  {
   "cell_type": "code",
   "execution_count": null,
   "metadata": {},
   "outputs": [],
   "source": [
    "!curl -X GET https://us-central1-arun-genai-bb.cloudfunctions.net/sales/api/accounts/T7F103 -H \"Authorization: bearer $(gcloud auth print-identity-token)\" -H \"Content-Type: application/json\""
   ]
  },
  {
   "cell_type": "markdown",
   "metadata": {},
   "source": [
    "Searching Accounts by Name"
   ]
  },
  {
   "cell_type": "code",
   "execution_count": null,
   "metadata": {},
   "outputs": [],
   "source": [
    "!curl -m 70 -X GET https://us-central1-arun-genai-bb.cloudfunctions.net/sales/api/accounts/search?name=bob -H \"Authorization: bearer $(gcloud auth print-identity-token)\" "
   ]
  },
  {
   "cell_type": "markdown",
   "metadata": {},
   "source": [
    "Posting URL Information for a Specific Account"
   ]
  },
  {
   "cell_type": "code",
   "execution_count": null,
   "metadata": {},
   "outputs": [],
   "source": [
    "!curl -m 70 -X POST https://us-central1-arun-genai-bb.cloudfunctions.net/sales/api/accounts/url \\\n",
    "-H \"Authorization: bearer $(gcloud auth print-identity-token)\" \\\n",
    "-H \"Content-Type: application/json\" \\\n",
    "-d '{\"account_id\": \"T7F103\", \"account_type\": \"portfolio\"}'"
   ]
  }
 ],
 "metadata": {
  "kernelspec": {
   "display_name": ".ai-query-agent",
   "language": "python",
   "name": "python3"
  },
  "language_info": {
   "codemirror_mode": {
    "name": "ipython",
    "version": 3
   },
   "file_extension": ".py",
   "mimetype": "text/x-python",
   "name": "python",
   "nbconvert_exporter": "python",
   "pygments_lexer": "ipython3",
   "version": "3.11.6"
  }
 },
 "nbformat": 4,
 "nbformat_minor": 2
}
