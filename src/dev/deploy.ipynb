{
 "cells": [
  {
   "cell_type": "markdown",
   "metadata": {},
   "source": [
    "# Deploy Flask Server to Cloud Functions"
   ]
  },
  {
   "cell_type": "markdown",
   "metadata": {},
   "source": [
    "#### Use `gcloud CLI` to deploy Flask app server to Cloud Functions "
   ]
  },
  {
   "cell_type": "code",
   "execution_count": 3,
   "metadata": {},
   "outputs": [
    {
     "name": "stdout",
     "output_type": "stream",
     "text": [
      "In a future Cloud SDK release, new functions will be deployed as 2nd gen  functions by default. This is equivalent to currently deploying new  with the --gen2 flag. Existing 1st gen functions will not be impacted and will continue to deploy as 1st gen functions.\n",
      "You can preview this behavior in beta. Alternatively, you can disable this behavior by explicitly specifying the --no-gen2 flag or by setting the functions/gen2 config property to 'off'.\n",
      "To learn more about the differences between 1st gen and 2nd gen functions, visit:\n",
      "https://cloud.google.com/functions/docs/concepts/version-comparison\n",
      "Deploying function (may take a while - up to 2 minutes)...⠛                    \n",
      "For Cloud Build Logs, visit: https://console.cloud.google.com/cloud-build/builds;region=us-central1/be8d0e70-18da-4138-91a8-9c9d086dfb50?project=390991481152\n",
      "Deploying function (may take a while - up to 2 minutes)...done.                \n",
      "automaticUpdatePolicy: {}\n",
      "availableMemoryMb: 256\n",
      "buildId: be8d0e70-18da-4138-91a8-9c9d086dfb50\n",
      "buildName: projects/390991481152/locations/us-central1/builds/be8d0e70-18da-4138-91a8-9c9d086dfb50\n",
      "dockerRegistry: ARTIFACT_REGISTRY\n",
      "entryPoint: sales\n",
      "httpsTrigger:\n",
      "  securityLevel: SECURE_ALWAYS\n",
      "  url: https://us-central1-arun-genai-bb.cloudfunctions.net/sales\n",
      "ingressSettings: ALLOW_ALL\n",
      "labels:\n",
      "  deployment-tool: cli-gcloud\n",
      "name: projects/arun-genai-bb/locations/us-central1/functions/sales\n",
      "runtime: python310\n",
      "serviceAccountEmail: arun-genai-bb@appspot.gserviceaccount.com\n",
      "sourceUploadUrl: https://storage.googleapis.com/uploads-647994221706.us-central1.cloudfunctions.appspot.com/634118ea-9b5e-4d0c-9271-03287021d881.zip\n",
      "status: ACTIVE\n",
      "timeout: 60s\n",
      "updateTime: '2024-06-27T12:03:58.278Z'\n",
      "versionId: '1'\n"
     ]
    }
   ],
   "source": [
    "!gcloud functions deploy sales --runtime python310 --trigger-http --allow-unauthenticated --source ./../../src/app/ "
   ]
  },
  {
   "cell_type": "markdown",
   "metadata": {},
   "source": [
    "#### Test deployed API methods"
   ]
  },
  {
   "cell_type": "code",
   "execution_count": 4,
   "metadata": {},
   "outputs": [
    {
     "name": "stdout",
     "output_type": "stream",
     "text": [
      "Welcome to the API!"
     ]
    }
   ],
   "source": [
    "!curl -m 70 -X GET https://us-central1-arun-genai-bb.cloudfunctions.net/sales/ -H \"Authorization: bearer $(gcloud auth print-identity-token)\" -H \"Content-Type: application/json\" "
   ]
  },
  {
   "cell_type": "code",
   "execution_count": 5,
   "metadata": {},
   "outputs": [
    {
     "name": "stdout",
     "output_type": "stream",
     "text": [
      "{\"id\":\"T7F103\",\"industry\":\"Technology\",\"name\":\"Zeta Technologies\",\"region\":\"North America\",\"status\":\"Active\"}\n"
     ]
    }
   ],
   "source": [
    "!curl -X GET https://us-central1-arun-genai-bb.cloudfunctions.net/sales/api/accounts/T7F103 -H \"Authorization: bearer $(gcloud auth print-identity-token)\" -H \"Content-Type: application/json\""
   ]
  }
 ],
 "metadata": {
  "kernelspec": {
   "display_name": ".ai-query-agent",
   "language": "python",
   "name": "python3"
  },
  "language_info": {
   "codemirror_mode": {
    "name": "ipython",
    "version": 3
   },
   "file_extension": ".py",
   "mimetype": "text/x-python",
   "name": "python",
   "nbconvert_exporter": "python",
   "pygments_lexer": "ipython3",
   "version": "3.11.6"
  }
 },
 "nbformat": 4,
 "nbformat_minor": 2
}
